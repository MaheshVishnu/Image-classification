{
 "cells": [
  {
   "cell_type": "markdown",
   "metadata": {
    "collapsed": true
   },
   "source": [
    "# Image Classification\n",
    "In this project, you'll classify images from the [CIFAR-10 dataset](https://www.cs.toronto.edu/~kriz/cifar.html).  The dataset consists of airplanes, dogs, cats, and other objects. You'll preprocess the images, then train a convolutional neural network on all the samples. The images need to be normalized and the labels need to be one-hot encoded.  You'll get to apply what you learned and build a convolutional, max pooling, dropout, and fully connected layers.  At the end, you'll get to see your neural network's predictions on the sample images.\n",
    "## Get the Data\n",
    "Run the following cell to download the [CIFAR-10 dataset for python](https://www.cs.toronto.edu/~kriz/cifar-10-python.tar.gz)."
   ]
  },
  {
   "cell_type": "code",
   "execution_count": 2,
   "metadata": {},
   "outputs": [
    {
     "name": "stdout",
     "output_type": "stream",
     "text": [
      "All files found!\n"
     ]
    }
   ],
   "source": [
    "\"\"\"\n",
    "DON'T MODIFY ANYTHING IN THIS CELL THAT IS BELOW THIS LINE\n",
    "\"\"\"\n",
    "from urllib.request import urlretrieve\n",
    "from os.path import isfile, isdir\n",
    "from tqdm import tqdm\n",
    "import problem_unittests as tests\n",
    "import tarfile\n",
    "\n",
    "cifar10_dataset_folder_path = 'cifar-10-batches-py'\n",
    "\n",
    "class DLProgress(tqdm):\n",
    "    last_block = 0\n",
    "\n",
    "    def hook(self, block_num=1, block_size=1, total_size=None):\n",
    "        self.total = total_size\n",
    "        self.update((block_num - self.last_block) * block_size)\n",
    "        self.last_block = block_num\n",
    "\n",
    "if not isfile('cifar-10-python.tar.gz'):\n",
    "    with DLProgress(unit='B', unit_scale=True, miniters=1, desc='CIFAR-10 Dataset') as pbar:\n",
    "        urlretrieve(\n",
    "            'https://www.cs.toronto.edu/~kriz/cifar-10-python.tar.gz',\n",
    "            'cifar-10-python.tar.gz',\n",
    "            pbar.hook)\n",
    "\n",
    "if not isdir(cifar10_dataset_folder_path):\n",
    "    with tarfile.open('cifar-10-python.tar.gz') as tar:\n",
    "        tar.extractall()\n",
    "        tar.close()\n",
    "\n",
    "\n",
    "tests.test_folder_path(cifar10_dataset_folder_path)"
   ]
  },
  {
   "cell_type": "markdown",
   "metadata": {},
   "source": [
    "## Explore the Data\n",
    "The dataset is broken into batches to prevent your machine from running out of memory.  The CIFAR-10 dataset consists of 5 batches, named `data_batch_1`, `data_batch_2`, etc.. Each batch contains the labels and images that are one of the following:\n",
    "* airplane\n",
    "* automobile\n",
    "* bird\n",
    "* cat\n",
    "* deer\n",
    "* dog\n",
    "* frog\n",
    "* horse\n",
    "* ship\n",
    "* truck\n",
    "\n",
    "Understanding a dataset is part of making predictions on the data.  Play around with the code cell below by changing the `batch_id` and `sample_id`. The `batch_id` is the id for a batch (1-5). The `sample_id` is the id for a image and label pair in the batch.\n",
    "\n",
    "Ask yourself \"What are all possible labels?\", \"What is the range of values for the image data?\", \"Are the labels in order or random?\".  Answers to questions like these will help you preprocess the data and end up with better predictions."
   ]
  },
  {
   "cell_type": "code",
   "execution_count": 3,
   "metadata": {},
   "outputs": [
    {
     "name": "stdout",
     "output_type": "stream",
     "text": [
      "\n",
      "Stats of batch 1:\n",
      "Samples: 10000\n",
      "Label Counts: {0: 1005, 1: 974, 2: 1032, 3: 1016, 4: 999, 5: 937, 6: 1030, 7: 1001, 8: 1025, 9: 981}\n",
      "First 20 Labels: [6, 9, 9, 4, 1, 1, 2, 7, 8, 3, 4, 7, 7, 2, 9, 9, 9, 3, 2, 6]\n",
      "\n",
      "Example of Image 5:\n",
      "Image - Min Value: 0 Max Value: 252\n",
      "Image - Shape: (32, 32, 3)\n",
      "Label - Label Id: 1 Name: automobile\n"
     ]
    },
    {
     "data": {
      "image/png": "[encoded data removed]",
      "text/plain": [
       "<matplotlib.figure.Figure at 0x7f3ffdd27710>"
      ]
     },
     "metadata": {
      "image/png": {
       "height": 250,
       "width": 253
      }
     },
     "output_type": "display_data"
    }
   ],
   "source": [
    "%matplotlib inline\n",
    "%config InlineBackend.figure_format = 'retina'\n",
    "\n",
    "import helper\n",
    "import numpy as np\n",
    "\n",
    "# Explore the dataset\n",
    "batch_id = 1\n",
    "sample_id = 5\n",
    "helper.display_stats(cifar10_dataset_folder_path, batch_id, sample_id)"
   ]
  },
  {
   "cell_type": "markdown",
   "metadata": {},
   "source": [
    "## Implement Preprocess Functions\n",
    "### Normalize\n",
    "In the cell below, implement the `normalize` function to take in image data, `x`, and return it as a normalized Numpy array. The values should be in the range of 0 to 1, inclusive.  The return object should be the same shape as `x`."
   ]
  },
  {
   "cell_type": "code",
   "execution_count": 4,
   "metadata": {},
   "outputs": [
    {
     "name": "stdout",
     "output_type": "stream",
     "text": [
      "Tests Passed\n"
     ]
    }
   ],
   "source": [
    "def normalize(x):\n",
    "    \"\"\"\n",
    "    Normalize a list of sample image data in the range of 0 to 1\n",
    "    : x: List of image data.  The image shape is (32, 32, 3)\n",
    "    : return: Numpy array of normalize data\n",
    "    \"\"\"\n",
    "    # TODO: Implement Function\n",
    "    return (x - np.min(x)) / (np.max(x) - np.min(x))\n",
    "\n",
    "\n",
    "\"\"\"\n",
    "DON'T MODIFY ANYTHING IN THIS CELL THAT IS BELOW THIS LINE\n",
    "\"\"\"\n",
    "tests.test_normalize(normalize)"
   ]
  },
  {
   "cell_type": "markdown",
   "metadata": {},
   "source": [
    "### One-hot encode\n",
    "Just like the previous code cell, you'll be implementing a function for preprocessing.  This time, you'll implement the `one_hot_encode` function. The input, `x`, are a list of labels.  Implement the function to return the list of labels as One-Hot encoded Numpy array.  The possible values for labels are 0 to 9. The one-hot encoding function should return the same encoding for each value between each call to `one_hot_encode`.  Make sure to save the map of encodings outside the function.\n",
    "\n",
    "**Hint:**\n",
    "\n",
    "Look into LabelBinarizer in the preprocessing module of sklearn."
   ]
  },
  {
   "cell_type": "code",
   "execution_count": 5,
   "metadata": {},
   "outputs": [
    {
     "name": "stdout",
     "output_type": "stream",
     "text": [
      "Tests Passed\n"
     ]
    }
   ],
   "source": [
    "def one_hot_encode(x):\n",
    "    \"\"\"\n",
    "    One hot encode a list of sample labels. Return a one-hot encoded vector for each label.\n",
    "    : x: List of sample Labels\n",
    "    : return: Numpy array of one-hot encoded labels\n",
    "    \"\"\"\n",
    "    # TODO: Implement Function\n",
    "    #from sklearn.preprocessing import OneHotEncoder\n",
    "    #encoder = OneHotEncoder(n_values = 10)\n",
    "    #return encoder.fit_transform(np.array(x).reshape(-1, 1)).toarray()\n",
    "    return np.eye(10)[x]\n",
    "    \n",
    "\n",
    "\n",
    "\"\"\"\n",
    "DON'T MODIFY ANYTHING IN THIS CELL THAT IS BELOW THIS LINE\n",
    "\"\"\"\n",
    "tests.test_one_hot_encode(one_hot_encode)"
   ]
  },
  {
   "cell_type": "markdown",
   "metadata": {},
   "source": [
    "### Randomize Data\n",
    "As you saw from exploring the data above, the order of the samples are randomized.  It doesn't hurt to randomize it again, but you don't need to for this dataset."
   ]
  },
  {
   "cell_type": "markdown",
   "metadata": {},
   "source": [
    "## Preprocess all the data and save it\n",
    "Running the code cell below will preprocess all the CIFAR-10 data and save it to file. The code below also uses 10% of the training data for validation."
   ]
  },
  {
   "cell_type": "code",
   "execution_count": 6,
   "metadata": {
    "collapsed": true
   },
   "outputs": [],
   "source": [
    "\"\"\"\n",
    "DON'T MODIFY ANYTHING IN THIS CELL\n",
    "\"\"\"\n",
    "# Preprocess Training, Validation, and Testing Data\n",
    "helper.preprocess_and_save_data(cifar10_dataset_folder_path, normalize, one_hot_encode)"
   ]
  },
  {
   "cell_type": "markdown",
   "metadata": {},
   "source": [
    "# Check Point\n",
    "This is your first checkpoint.  If you ever decide to come back to this notebook or have to restart the notebook, you can start from here.  The preprocessed data has been saved to disk."
   ]
  },
  {
   "cell_type": "code",
   "execution_count": 7,
   "metadata": {
    "collapsed": true
   },
   "outputs": [],
   "source": [
    "\"\"\"\n",
    "DON'T MODIFY ANYTHING IN THIS CELL\n",
    "\"\"\"\n",
    "import pickle\n",
    "import problem_unittests as tests\n",
    "import helper\n",
    "\n",
    "# Load the Preprocessed Validation data\n",
    "valid_features, valid_labels = pickle.load(open('preprocess_validation.p', mode='rb'))"
   ]
  },
  {
   "cell_type": "markdown",
   "metadata": {},
   "source": [
    "## Build the network\n",
    "For the neural network, you'll build each layer into a function.  Most of the code you've seen has been outside of functions. To test your code more thoroughly, we require that you put each layer in a function.  This allows us to give you better feedback and test for simple mistakes using our unittests before you submit your project.\n",
    "\n",
    ">**Note:** If you're finding it hard to dedicate enough time for this course each week, we've provided a small shortcut to this part of the project. In the next couple of problems, you'll have the option to use classes from the [TensorFlow Layers](https://www.tensorflow.org/api_docs/python/tf/layers) or [TensorFlow Layers (contrib)](https://www.tensorflow.org/api_guides/python/contrib.layers) packages to build each layer, except the layers you build in the \"Convolutional and Max Pooling Layer\" section.  TF Layers is similar to Keras's and TFLearn's abstraction to layers, so it's easy to pickup.\n",
    "\n",
    ">However, if you would like to get the most out of this course, try to solve all the problems _without_ using anything from the TF Layers packages. You **can** still use classes from other packages that happen to have the same name as ones you find in TF Layers! For example, instead of using the TF Layers version of the `conv2d` class, [tf.layers.conv2d](https://www.tensorflow.org/api_docs/python/tf/layers/conv2d), you would want to use the TF Neural Network version of `conv2d`, [tf.nn.conv2d](https://www.tensorflow.org/api_docs/python/tf/nn/conv2d). \n",
    "\n",
    "Let's begin!\n",
    "\n",
    "### Input\n",
    "The neural network needs to read the image data, one-hot encoded labels, and dropout keep probability. Implement the following functions\n",
    "* Implement `neural_net_image_input`\n",
    " * Return a [TF Placeholder](https://www.tensorflow.org/api_docs/python/tf/placeholder)\n",
    " * Set the shape using `image_shape` with batch size set to `None`.\n",
    " * Name the TensorFlow placeholder \"x\" using the TensorFlow `name` parameter in the [TF Placeholder](https://www.tensorflow.org/api_docs/python/tf/placeholder).\n",
    "* Implement `neural_net_label_input`\n",
    " * Return a [TF Placeholder](https://www.tensorflow.org/api_docs/python/tf/placeholder)\n",
    " * Set the shape using `n_classes` with batch size set to `None`.\n",
    " * Name the TensorFlow placeholder \"y\" using the TensorFlow `name` parameter in the [TF Placeholder](https://www.tensorflow.org/api_docs/python/tf/placeholder).\n",
    "* Implement `neural_net_keep_prob_input`\n",
    " * Return a [TF Placeholder](https://www.tensorflow.org/api_docs/python/tf/placeholder) for dropout keep probability.\n",
    " * Name the TensorFlow placeholder \"keep_prob\" using the TensorFlow `name` parameter in the [TF Placeholder](https://www.tensorflow.org/api_docs/python/tf/placeholder).\n",
    "\n",
    "These names will be used at the end of the project to load your saved model.\n",
    "\n",
    "Note: `None` for shapes in TensorFlow allow for a dynamic size."
   ]
  },
  {
   "cell_type": "code",
   "execution_count": 8,
   "metadata": {},
   "outputs": [
    {
     "name": "stdout",
     "output_type": "stream",
     "text": [
      "Image Input Tests Passed.\n",
      "Label Input Tests Passed.\n",
      "Keep Prob Tests Passed.\n"
     ]
    }
   ],
   "source": [
    "import tensorflow as tf\n",
    "\n",
    "def neural_net_image_input(image_shape):\n",
    "    \"\"\"\n",
    "    Return a Tensor for a batch of image input\n",
    "    : image_shape: Shape of the images\n",
    "    : return: Tensor for image input.\n",
    "    \"\"\"\n",
    "    # TODO: Implement Function\n",
    "    return tf.placeholder(tf.float32, shape = ((None, ) + image_shape), name = 'x')\n",
    "\n",
    "\n",
    "def neural_net_label_input(n_classes):\n",
    "    \"\"\"\n",
    "    Return a Tensor for a batch of label input\n",
    "    : n_classes: Number of classes\n",
    "    : return: Tensor for label input.\n",
    "    \"\"\"\n",
    "    # TODO: Implement Function\n",
    "    return tf.placeholder(tf.float32, shape = (None, n_classes), name = 'y')\n",
    "\n",
    "\n",
    "def neural_net_keep_prob_input():\n",
    "    \"\"\"\n",
    "    Return a Tensor for keep probability\n",
    "    : return: Tensor for keep probability.\n",
    "    \"\"\"\n",
    "    # TODO: Implement Function\n",
    "    return tf.placeholder(tf.float32, shape = (None), name = 'keep_prob')\n",
    "\n",
    "\n",
    "\"\"\"\n",
    "DON'T MODIFY ANYTHING IN THIS CELL THAT IS BELOW THIS LINE\n",
    "\"\"\"\n",
    "tf.reset_default_graph()\n",
    "tests.test_nn_image_inputs(neural_net_image_input)\n",
    "tests.test_nn_label_inputs(neural_net_label_input)\n",
    "tests.test_nn_keep_prob_inputs(neural_net_keep_prob_input)"
   ]
  },
  {
   "cell_type": "markdown",
   "metadata": {},
   "source": [
    "### Convolution and Max Pooling Layer\n",
    "Convolution layers have a lot of success with images. For this code cell, you should implement the function `conv2d_maxpool` to apply convolution then max pooling:\n",
    "* Create the weight and bias using `conv_ksize`, `conv_num_outputs` and the shape of `x_tensor`.\n",
    "* Apply a convolution to `x_tensor` using weight and `conv_strides`.\n",
    " * We recommend you use same padding, but you're welcome to use any padding.\n",
    "* Add bias\n",
    "* Add a nonlinear activation to the convolution.\n",
    "* Apply Max Pooling using `pool_ksize` and `pool_strides`.\n",
    " * We recommend you use same padding, but you're welcome to use any padding.\n",
    "\n",
    "**Note:** You **can't** use [TensorFlow Layers](https://www.tensorflow.org/api_docs/python/tf/layers) or [TensorFlow Layers (contrib)](https://www.tensorflow.org/api_guides/python/contrib.layers) for **this** layer, but you can still use TensorFlow's [Neural Network](https://www.tensorflow.org/api_docs/python/tf/nn) package. You may still use the shortcut option for all the **other** layers.\n",
    "\n",
    "** Hint: **\n",
    "\n",
    "When unpacking values as an argument in Python, look into the [unpacking](https://docs.python.org/3/tutorial/controlflow.html#unpacking-argument-lists) operator. "
   ]
  },
  {
   "cell_type": "code",
   "execution_count": 9,
   "metadata": {},
   "outputs": [
    {
     "name": "stdout",
     "output_type": "stream",
     "text": [
      "Tests Passed\n"
     ]
    }
   ],
   "source": [
    "def conv2d_maxpool(x_tensor, conv_num_outputs, conv_ksize, conv_strides, pool_ksize, pool_strides):\n",
    "    \"\"\"\n",
    "    Apply convolution then max pooling to x_tensor\n",
    "    :param x_tensor: TensorFlow Tensor\n",
    "    :param conv_num_outputs: Number of outputs for the convolutional layer\n",
    "    :param conv_ksize: kernal size 2-D Tuple for the convolutional layer\n",
    "    :param conv_strides: Stride 2-D Tuple for convolution\n",
    "    :param pool_ksize: kernal size 2-D Tuple for pool\n",
    "    :param pool_strides: Stride 2-D Tuple for pool\n",
    "    : return: A tensor that represents convolution and max pooling of x_tensor\n",
    "    \"\"\"\n",
    "    # TODO: Implement Function\n",
    "    weights = tf.Variable(tf.random_normal([conv_ksize[0], conv_ksize[1], x_tensor.get_shape().as_list()[3],\n",
    "                                                                          conv_num_outputs], stddev = 0.1))\n",
    "    biases = tf.Variable(tf.random_normal([conv_num_outputs], stddev = 0.1))\n",
    "    x_tensor = tf.nn.conv2d(x_tensor, weights, [1, conv_strides[0], conv_strides[1], 1], padding = 'SAME')\n",
    "    x_tensor = tf.nn.bias_add(x_tensor, biases)\n",
    "    x_tensor = tf.nn.relu(x_tensor)\n",
    "    x_tensor = tf.nn.max_pool(x_tensor, [1, pool_ksize[0], pool_ksize[1], 1],\\\n",
    "                                   [1, pool_strides[0], pool_strides[1], 1], padding = 'SAME')\n",
    "    return x_tensor\n",
    "\n",
    "\n",
    "\"\"\"\n",
    "DON'T MODIFY ANYTHING IN THIS CELL THAT IS BELOW THIS LINE\n",
    "\"\"\"\n",
    "tests.test_con_pool(conv2d_maxpool)"
   ]
  },
  {
   "cell_type": "markdown",
   "metadata": {},
   "source": [
    "### Flatten Layer\n",
    "Implement the `flatten` function to change the dimension of `x_tensor` from a 4-D tensor to a 2-D tensor.  The output should be the shape (*Batch Size*, *Flattened Image Size*). Shortcut option: you can use classes from the [TensorFlow Layers](https://www.tensorflow.org/api_docs/python/tf/layers) or [TensorFlow Layers (contrib)](https://www.tensorflow.org/api_guides/python/contrib.layers) packages for this layer. For more of a challenge, only use other TensorFlow packages."
   ]
  },
  {
   "cell_type": "code",
   "execution_count": 10,
   "metadata": {},
   "outputs": [
    {
     "name": "stdout",
     "output_type": "stream",
     "text": [
      "Tests Passed\n"
     ]
    }
   ],
   "source": [
    "def flatten(x_tensor):\n",
    "    \"\"\"\n",
    "    Flatten x_tensor to (Batch Size, Flattened Image Size)\n",
    "    : x_tensor: A tensor of size (Batch Size, ...), where ... are the image dimensions.\n",
    "    : return: A tensor of size (Batch Size, Flattened Image Size).\n",
    "    \"\"\"\n",
    "    # TODO: Implement Function\n",
    "    return tf.contrib.layers.flatten(x_tensor)\n",
    "\n",
    "\n",
    "\"\"\"\n",
    "DON'T MODIFY ANYTHING IN THIS CELL THAT IS BELOW THIS LINE\n",
    "\"\"\"\n",
    "tests.test_flatten(flatten)"
   ]
  },
  {
   "cell_type": "markdown",
   "metadata": {},
   "source": [
    "### Fully-Connected Layer\n",
    "Implement the `fully_conn` function to apply a fully connected layer to `x_tensor` with the shape (*Batch Size*, *num_outputs*). Shortcut option: you can use classes from the [TensorFlow Layers](https://www.tensorflow.org/api_docs/python/tf/layers) or [TensorFlow Layers (contrib)](https://www.tensorflow.org/api_guides/python/contrib.layers) packages for this layer. For more of a challenge, only use other TensorFlow packages."
   ]
  },
  {
   "cell_type": "code",
   "execution_count": 11,
   "metadata": {},
   "outputs": [
    {
     "name": "stdout",
     "output_type": "stream",
     "text": [
      "Tests Passed\n"
     ]
    }
   ],
   "source": [
    "def fully_conn(x_tensor, num_outputs):\n",
    "    \"\"\"\n",
    "    Apply a fully connected layer to x_tensor using weight and bias\n",
    "    : x_tensor: A 2-D tensor where the first dimension is batch size.\n",
    "    : num_outputs: The number of output that the new tensor should be.\n",
    "    : return: A 2-D tensor where the second dimension is num_outputs.\n",
    "    \"\"\"\n",
    "    # TODO: Implement Function\n",
    "    return tf.contrib.layers.fully_connected(x_tensor, num_outputs, tf.nn.relu)\n",
    "\n",
    "\n",
    "\"\"\"\n",
    "DON'T MODIFY ANYTHING IN THIS CELL THAT IS BELOW THIS LINE\n",
    "\"\"\"\n",
    "tests.test_fully_conn(fully_conn)"
   ]
  },
  {
   "cell_type": "markdown",
   "metadata": {},
   "source": [
    "### Output Layer\n",
    "Implement the `output` function to apply a fully connected layer to `x_tensor` with the shape (*Batch Size*, *num_outputs*). Shortcut option: you can use classes from the [TensorFlow Layers](https://www.tensorflow.org/api_docs/python/tf/layers) or [TensorFlow Layers (contrib)](https://www.tensorflow.org/api_guides/python/contrib.layers) packages for this layer. For more of a challenge, only use other TensorFlow packages.\n",
    "\n",
    "**Note:** Activation, softmax, or cross entropy should **not** be applied to this."
   ]
  },
  {
   "cell_type": "code",
   "execution_count": 12,
   "metadata": {},
   "outputs": [
    {
     "name": "stdout",
     "output_type": "stream",
     "text": [
      "Tests Passed\n"
     ]
    }
   ],
   "source": [
    "def output(x_tensor, num_outputs):\n",
    "    \"\"\"\n",
    "    Apply a output layer to x_tensor using weight and bias\n",
    "    : x_tensor: A 2-D tensor where the first dimension is batch size.\n",
    "    : num_outputs: The number of output that the new tensor should be.\n",
    "    : return: A 2-D tensor where the second dimension is num_outputs.\n",
    "    \"\"\"\n",
    "    # TODO: Implement Function\n",
    "    return tf.contrib.layers.fully_connected(x_tensor, num_outputs)\n",
    "\n",
    "\n",
    "\"\"\"\n",
    "DON'T MODIFY ANYTHING IN THIS CELL THAT IS BELOW THIS LINE\n",
    "\"\"\"\n",
    "tests.test_output(output)"
   ]
  },
  {
   "cell_type": "markdown",
   "metadata": {},
   "source": [
    "### Create Convolutional Model\n",
    "Implement the function `conv_net` to create a convolutional neural network model. The function takes in a batch of images, `x`, and outputs logits.  Use the layers you created above to create this model:\n",
    "\n",
    "* Apply 1, 2, or 3 Convolution and Max Pool layers\n",
    "* Apply a Flatten Layer\n",
    "* Apply 1, 2, or 3 Fully Connected Layers\n",
    "* Apply an Output Layer\n",
    "* Return the output\n",
    "* Apply [TensorFlow's Dropout](https://www.tensorflow.org/api_docs/python/tf/nn/dropout) to one or more layers in the model using `keep_prob`. "
   ]
  },
  {
   "cell_type": "code",
   "execution_count": 18,
   "metadata": {},
   "outputs": [
    {
     "name": "stdout",
     "output_type": "stream",
     "text": [
      "Neural Network Built!\n"
     ]
    }
   ],
   "source": [
    "def conv_net(x, keep_prob):\n",
    "    \"\"\"\n",
    "    Create a convolutional neural network model\n",
    "    : x: Placeholder tensor that holds image data.\n",
    "    : keep_prob: Placeholder tensor that hold dropout keep probability.\n",
    "    : return: Tensor that represents logits\n",
    "    \"\"\"\n",
    "    #Parameters required :\n",
    "    conv_ksize = (4, 4)\n",
    "    conv_strides = (conv_ksize[0]/2, conv_ksize[1]/2)\n",
    "    conv_num_outputs = conv_ksize[0] * conv_ksize[1]\n",
    "    pool_ksize = (2, 2)\n",
    "    pool_strides = (pool_ksize[0]/2, pool_ksize[1]/2)\n",
    "    num_outputs = 10\n",
    "    # TODO: Apply 1, 2, or 3 Convolution and Max Pool layers\n",
    "    #    Play around with different number of outputs, kernel size and stride\n",
    "    # Function Definition from Above:\n",
    "    #    conv2d_maxpool(x_tensor, conv_num_outputs, conv_ksize, conv_strides, pool_ksize, pool_strides)\n",
    "    conv_layer_1 = conv2d_maxpool(x, conv_num_outputs, conv_ksize, conv_strides, pool_ksize, pool_strides)\n",
    "    conv_layer_2 = conv2d_maxpool(conv_layer_1, conv_num_outputs, conv_ksize, conv_strides, pool_ksize, pool_strides)\n",
    "    conv_layer_3 = conv2d_maxpool(conv_layer_2, conv_num_outputs, conv_ksize, conv_strides, pool_ksize, pool_strides)\n",
    "    # TODO: Apply a Flatten Layer\n",
    "    # Function Definition from Above:\n",
    "    #   flatten(x_tensor)\n",
    "    flat_layer = flatten(conv_layer_3)\n",
    "    flat_layer = tf.nn.dropout(flat_layer, keep_prob)\n",
    "\n",
    "    # TODO: Apply 1, 2, or 3 Fully Connected Layers\n",
    "    #    Play around with different number of outputs\n",
    "    # Function Definition from Above:\n",
    "    #   fully_conn(x_tensor, num_outputs)\n",
    "    fully_conn_layer = fully_conn(flat_layer, num_outputs * 2)\n",
    "    fully_conn_layer = tf.nn.dropout(fully_conn_layer, keep_prob)\n",
    "    \n",
    "    # TODO: Apply an Output Layer\n",
    "    #    Set this to the number of classes\n",
    "    # Function Definition from Above:\n",
    "    #   output(x_tensor, num_outputs)\n",
    "    output_layer = output(fully_conn_layer, num_outputs)\n",
    "    \n",
    "    # TODO: return output\n",
    "    return output_layer\n",
    "\n",
    "\n",
    "\"\"\"\n",
    "DON'T MODIFY ANYTHING IN THIS CELL THAT IS BELOW THIS LINE\n",
    "\"\"\"\n",
    "\n",
    "##############################\n",
    "## Build the Neural Network ##\n",
    "##############################\n",
    "\n",
    "# Remove previous weights, bias, inputs, etc..\n",
    "tf.reset_default_graph()\n",
    "\n",
    "# Inputs\n",
    "x = neural_net_image_input((32, 32, 3))\n",
    "y = neural_net_label_input(10)\n",
    "keep_prob = neural_net_keep_prob_input()\n",
    "\n",
    "# Model\n",
    "logits = conv_net(x, keep_prob)\n",
    "\n",
    "# Name logits Tensor, so that is can be loaded from disk after training\n",
    "logits = tf.identity(logits, name='logits')\n",
    "\n",
    "# Loss and Optimizer\n",
    "cost = tf.reduce_mean(tf.nn.softmax_cross_entropy_with_logits(logits=logits, labels=y))\n",
    "optimizer = tf.train.AdamOptimizer().minimize(cost)\n",
    "\n",
    "# Accuracy\n",
    "correct_pred = tf.equal(tf.argmax(logits, 1), tf.argmax(y, 1))\n",
    "accuracy = tf.reduce_mean(tf.cast(correct_pred, tf.float32), name='accuracy')\n",
    "\n",
    "tests.test_conv_net(conv_net)"
   ]
  },
  {
   "cell_type": "markdown",
   "metadata": {},
   "source": [
    "## Train the Neural Network\n",
    "### Single Optimization\n",
    "Implement the function `train_neural_network` to do a single optimization.  The optimization should use `optimizer` to optimize in `session` with a `feed_dict` of the following:\n",
    "* `x` for image input\n",
    "* `y` for labels\n",
    "* `keep_prob` for keep probability for dropout\n",
    "\n",
    "This function will be called for each batch, so `tf.global_variables_initializer()` has already been called.\n",
    "\n",
    "Note: Nothing needs to be returned. This function is only optimizing the neural network."
   ]
  },
  {
   "cell_type": "code",
   "execution_count": 19,
   "metadata": {},
   "outputs": [
    {
     "name": "stdout",
     "output_type": "stream",
     "text": [
      "Tests Passed\n"
     ]
    }
   ],
   "source": [
    "def train_neural_network(session, optimizer, keep_probability, feature_batch, label_batch):\n",
    "    \"\"\"\n",
    "    Optimize the session on a batch of images and labels\n",
    "    : session: Current TensorFlow session\n",
    "    : optimizer: TensorFlow optimizer function\n",
    "    : keep_probability: keep probability\n",
    "    : feature_batch: Batch of Numpy image data\n",
    "    : label_batch: Batch of Numpy label data\n",
    "    \"\"\"\n",
    "    # TODO: Implement Function\n",
    "    #with tf.Session() as session :\n",
    "    session.run(optimizer, feed_dict = {x: feature_batch, y: label_batch, keep_prob: keep_probability})\n",
    "    pass\n",
    "\n",
    "\n",
    "\"\"\"\n",
    "DON'T MODIFY ANYTHING IN THIS CELL THAT IS BELOW THIS LINE\n",
    "\"\"\"\n",
    "tests.test_train_nn(train_neural_network)"
   ]
  },
  {
   "cell_type": "markdown",
   "metadata": {},
   "source": [
    "### Show Stats\n",
    "Implement the function `print_stats` to print loss and validation accuracy.  Use the global variables `valid_features` and `valid_labels` to calculate validation accuracy.  Use a keep probability of `1.0` to calculate the loss and validation accuracy."
   ]
  },
  {
   "cell_type": "code",
   "execution_count": 20,
   "metadata": {
    "collapsed": true
   },
   "outputs": [],
   "source": [
    "def print_stats(session, feature_batch, label_batch, cost, accuracy):\n",
    "    \"\"\"\n",
    "    Print information about loss and validation accuracy\n",
    "    : session: Current TensorFlow session\n",
    "    : feature_batch: Batch of Numpy image data\n",
    "    : label_batch: Batch of Numpy label data\n",
    "    : cost: TensorFlow cost function\n",
    "    : accuracy: TensorFlow accuracy function\n",
    "    \"\"\"\n",
    "    # TODO: Implement Function\n",
    "    loss = session.run(cost, feed_dict = {x: feature_batch, y: label_batch, keep_prob: 1.0})\n",
    "    validation_accuracy = session.run(accuracy, feed_dict = {x: valid_features, y: valid_labels, keep_prob: 1.0})\n",
    "    print ('Loss: {:.4f} Validation_accuracy: {:.2f}'.format(loss, validation_accuracy * 100))\n",
    "    pass"
   ]
  },
  {
   "cell_type": "markdown",
   "metadata": {},
   "source": [
    "### Hyperparameters\n",
    "Tune the following parameters:\n",
    "* Set `epochs` to the number of iterations until the network stops learning or start overfitting\n",
    "* Set `batch_size` to the highest number that your machine has memory for.  Most people set them to common sizes of memory:\n",
    " * 64\n",
    " * 128\n",
    " * 256\n",
    " * ...\n",
    "* Set `keep_probability` to the probability of keeping a node using dropout"
   ]
  },
  {
   "cell_type": "code",
   "execution_count": 21,
   "metadata": {
    "collapsed": true
   },
   "outputs": [],
   "source": [
    "# TODO: Tune Parameters\n",
    "epochs = 60\n",
    "batch_size = 256\n",
    "keep_probability = 0.8"
   ]
  },
  {
   "cell_type": "markdown",
   "metadata": {},
   "source": [
    "### Train on a Single CIFAR-10 Batch\n",
    "Instead of training the neural network on all the CIFAR-10 batches of data, let's use a single batch. This should save time while you iterate on the model to get a better accuracy.  Once the final validation accuracy is 50% or greater, run the model on all the data in the next section."
   ]
  },
  {
   "cell_type": "code",
   "execution_count": 22,
   "metadata": {
    "scrolled": false
   },
   "outputs": [
    {
     "name": "stdout",
     "output_type": "stream",
     "text": [
      "Checking the Training on a Single Batch...\n",
      "Epoch  1, CIFAR-10 Batch 1:  Loss: 2.3001 Validation_accuracy: 14.80\n",
      "Epoch  2, CIFAR-10 Batch 1:  Loss: 2.2270 Validation_accuracy: 20.64\n",
      "Epoch  3, CIFAR-10 Batch 1:  Loss: 2.1228 Validation_accuracy: 23.42\n",
      "Epoch  4, CIFAR-10 Batch 1:  Loss: 2.0529 Validation_accuracy: 29.40\n",
      "Epoch  5, CIFAR-10 Batch 1:  Loss: 1.9578 Validation_accuracy: 32.24\n",
      "Epoch  6, CIFAR-10 Batch 1:  Loss: 1.8889 Validation_accuracy: 35.22\n",
      "Epoch  7, CIFAR-10 Batch 1:  Loss: 1.7603 Validation_accuracy: 37.88\n",
      "Epoch  8, CIFAR-10 Batch 1:  Loss: 1.6879 Validation_accuracy: 39.38\n",
      "Epoch  9, CIFAR-10 Batch 1:  Loss: 1.6812 Validation_accuracy: 40.22\n",
      "Epoch 10, CIFAR-10 Batch 1:  Loss: 1.5618 Validation_accuracy: 41.14\n",
      "Epoch 11, CIFAR-10 Batch 1:  Loss: 1.5202 Validation_accuracy: 42.90\n",
      "Epoch 12, CIFAR-10 Batch 1:  Loss: 1.4431 Validation_accuracy: 41.96\n",
      "Epoch 13, CIFAR-10 Batch 1:  Loss: 1.3877 Validation_accuracy: 41.64\n",
      "Epoch 14, CIFAR-10 Batch 1:  Loss: 1.3669 Validation_accuracy: 44.34\n",
      "Epoch 15, CIFAR-10 Batch 1:  Loss: 1.3439 Validation_accuracy: 44.48\n",
      "Epoch 16, CIFAR-10 Batch 1:  Loss: 1.2670 Validation_accuracy: 43.40\n",
      "Epoch 17, CIFAR-10 Batch 1:  Loss: 1.2608 Validation_accuracy: 44.30\n",
      "Epoch 18, CIFAR-10 Batch 1:  Loss: 1.2089 Validation_accuracy: 45.20\n",
      "Epoch 19, CIFAR-10 Batch 1:  Loss: 1.1676 Validation_accuracy: 44.44\n",
      "Epoch 20, CIFAR-10 Batch 1:  Loss: 1.1254 Validation_accuracy: 45.80\n",
      "Epoch 21, CIFAR-10 Batch 1:  Loss: 1.1166 Validation_accuracy: 46.48\n",
      "Epoch 22, CIFAR-10 Batch 1:  Loss: 1.1211 Validation_accuracy: 46.66\n",
      "Epoch 23, CIFAR-10 Batch 1:  Loss: 1.1135 Validation_accuracy: 46.18\n",
      "Epoch 24, CIFAR-10 Batch 1:  Loss: 1.0432 Validation_accuracy: 47.06\n",
      "Epoch 25, CIFAR-10 Batch 1:  Loss: 1.0220 Validation_accuracy: 47.12\n",
      "Epoch 26, CIFAR-10 Batch 1:  Loss: 0.9960 Validation_accuracy: 47.42\n",
      "Epoch 27, CIFAR-10 Batch 1:  Loss: 1.0404 Validation_accuracy: 47.10\n",
      "Epoch 28, CIFAR-10 Batch 1:  Loss: 0.9997 Validation_accuracy: 47.80\n",
      "Epoch 29, CIFAR-10 Batch 1:  Loss: 1.0265 Validation_accuracy: 46.58\n",
      "Epoch 30, CIFAR-10 Batch 1:  Loss: 0.9605 Validation_accuracy: 47.46\n",
      "Epoch 31, CIFAR-10 Batch 1:  Loss: 0.9215 Validation_accuracy: 48.06\n",
      "Epoch 32, CIFAR-10 Batch 1:  Loss: 0.9555 Validation_accuracy: 47.90\n",
      "Epoch 33, CIFAR-10 Batch 1:  Loss: 0.9031 Validation_accuracy: 48.78\n",
      "Epoch 34, CIFAR-10 Batch 1:  Loss: 0.8759 Validation_accuracy: 48.44\n",
      "Epoch 35, CIFAR-10 Batch 1:  Loss: 0.8476 Validation_accuracy: 48.48\n",
      "Epoch 36, CIFAR-10 Batch 1:  Loss: 0.8525 Validation_accuracy: 48.52\n",
      "Epoch 37, CIFAR-10 Batch 1:  Loss: 0.8567 Validation_accuracy: 47.84\n",
      "Epoch 38, CIFAR-10 Batch 1:  Loss: 0.8235 Validation_accuracy: 48.44\n",
      "Epoch 39, CIFAR-10 Batch 1:  Loss: 0.8177 Validation_accuracy: 48.38\n",
      "Epoch 40, CIFAR-10 Batch 1:  Loss: 0.7992 Validation_accuracy: 48.52\n",
      "Epoch 41, CIFAR-10 Batch 1:  Loss: 0.8052 Validation_accuracy: 48.52\n",
      "Epoch 42, CIFAR-10 Batch 1:  Loss: 0.7741 Validation_accuracy: 49.42\n",
      "Epoch 43, CIFAR-10 Batch 1:  Loss: 0.7798 Validation_accuracy: 49.66\n",
      "Epoch 44, CIFAR-10 Batch 1:  Loss: 0.7478 Validation_accuracy: 48.84\n",
      "Epoch 45, CIFAR-10 Batch 1:  Loss: 0.7629 Validation_accuracy: 50.18\n",
      "Epoch 46, CIFAR-10 Batch 1:  Loss: 0.7357 Validation_accuracy: 48.74\n",
      "Epoch 47, CIFAR-10 Batch 1:  Loss: 0.7306 Validation_accuracy: 48.30\n",
      "Epoch 48, CIFAR-10 Batch 1:  Loss: 0.7569 Validation_accuracy: 49.76\n",
      "Epoch 49, CIFAR-10 Batch 1:  Loss: 0.7649 Validation_accuracy: 50.02\n",
      "Epoch 50, CIFAR-10 Batch 1:  Loss: 0.7313 Validation_accuracy: 50.12\n",
      "Epoch 51, CIFAR-10 Batch 1:  Loss: 0.7269 Validation_accuracy: 50.38\n",
      "Epoch 52, CIFAR-10 Batch 1:  Loss: 0.7393 Validation_accuracy: 50.72\n",
      "Epoch 53, CIFAR-10 Batch 1:  Loss: 0.6902 Validation_accuracy: 50.52\n",
      "Epoch 54, CIFAR-10 Batch 1:  Loss: 0.6916 Validation_accuracy: 50.86\n",
      "Epoch 55, CIFAR-10 Batch 1:  Loss: 0.6802 Validation_accuracy: 49.46\n",
      "Epoch 56, CIFAR-10 Batch 1:  Loss: 0.6484 Validation_accuracy: 50.58\n",
      "Epoch 57, CIFAR-10 Batch 1:  Loss: 0.6540 Validation_accuracy: 50.00\n",
      "Epoch 58, CIFAR-10 Batch 1:  Loss: 0.6553 Validation_accuracy: 51.02\n",
      "Epoch 59, CIFAR-10 Batch 1:  Loss: 0.6558 Validation_accuracy: 51.22\n",
      "Epoch 60, CIFAR-10 Batch 1:  Loss: 0.6553 Validation_accuracy: 50.04\n"
     ]
    }
   ],
   "source": [
    "\"\"\"\n",
    "DON'T MODIFY ANYTHING IN THIS CELL\n",
    "\"\"\"\n",
    "print('Checking the Training on a Single Batch...')\n",
    "with tf.Session() as sess:\n",
    "    # Initializing the variables\n",
    "    sess.run(tf.global_variables_initializer())\n",
    "    \n",
    "    # Training cycle\n",
    "    for epoch in range(epochs):\n",
    "        batch_i = 1\n",
    "        for batch_features, batch_labels in helper.load_preprocess_training_batch(batch_i, batch_size):\n",
    "            train_neural_network(sess, optimizer, keep_probability, batch_features, batch_labels)\n",
    "        print('Epoch {:>2}, CIFAR-10 Batch {}:  '.format(epoch + 1, batch_i), end='')\n",
    "        print_stats(sess, batch_features, batch_labels, cost, accuracy)"
   ]
  },
  {
   "cell_type": "markdown",
   "metadata": {},
   "source": [
    "### Fully Train the Model\n",
    "Now that you got a good accuracy with a single CIFAR-10 batch, try it with all five batches."
   ]
  },
  {
   "cell_type": "code",
   "execution_count": 23,
   "metadata": {
    "scrolled": false
   },
   "outputs": [
    {
     "name": "stdout",
     "output_type": "stream",
     "text": [
      "Training...\n",
      "Epoch  1, CIFAR-10 Batch 1:  Loss: 2.2548 Validation_accuracy: 16.90\n",
      "Epoch  1, CIFAR-10 Batch 2:  Loss: 2.1884 Validation_accuracy: 26.40\n",
      "Epoch  1, CIFAR-10 Batch 3:  Loss: 1.9989 Validation_accuracy: 24.50\n",
      "Epoch  1, CIFAR-10 Batch 4:  Loss: 1.9541 Validation_accuracy: 32.30\n",
      "Epoch  1, CIFAR-10 Batch 5:  Loss: 1.9178 Validation_accuracy: 35.60\n",
      "Epoch  2, CIFAR-10 Batch 1:  Loss: 2.0252 Validation_accuracy: 34.32\n",
      "Epoch  2, CIFAR-10 Batch 2:  Loss: 1.8524 Validation_accuracy: 37.96\n",
      "Epoch  2, CIFAR-10 Batch 3:  Loss: 1.6068 Validation_accuracy: 37.36\n",
      "Epoch  2, CIFAR-10 Batch 4:  Loss: 1.6661 Validation_accuracy: 39.08\n",
      "Epoch  2, CIFAR-10 Batch 5:  Loss: 1.7170 Validation_accuracy: 40.12\n",
      "Epoch  3, CIFAR-10 Batch 1:  Loss: 1.8823 Validation_accuracy: 41.48\n",
      "Epoch  3, CIFAR-10 Batch 2:  Loss: 1.6224 Validation_accuracy: 40.20\n",
      "Epoch  3, CIFAR-10 Batch 3:  Loss: 1.4087 Validation_accuracy: 41.90\n",
      "Epoch  3, CIFAR-10 Batch 4:  Loss: 1.5801 Validation_accuracy: 43.20\n",
      "Epoch  3, CIFAR-10 Batch 5:  Loss: 1.5766 Validation_accuracy: 42.94\n",
      "Epoch  4, CIFAR-10 Batch 1:  Loss: 1.7330 Validation_accuracy: 44.74\n",
      "Epoch  4, CIFAR-10 Batch 2:  Loss: 1.5183 Validation_accuracy: 44.08\n",
      "Epoch  4, CIFAR-10 Batch 3:  Loss: 1.2811 Validation_accuracy: 44.74\n",
      "Epoch  4, CIFAR-10 Batch 4:  Loss: 1.4760 Validation_accuracy: 45.84\n",
      "Epoch  4, CIFAR-10 Batch 5:  Loss: 1.5199 Validation_accuracy: 45.26\n",
      "Epoch  5, CIFAR-10 Batch 1:  Loss: 1.6269 Validation_accuracy: 46.44\n",
      "Epoch  5, CIFAR-10 Batch 2:  Loss: 1.5515 Validation_accuracy: 46.90\n",
      "Epoch  5, CIFAR-10 Batch 3:  Loss: 1.1981 Validation_accuracy: 46.22\n",
      "Epoch  5, CIFAR-10 Batch 4:  Loss: 1.4305 Validation_accuracy: 46.34\n",
      "Epoch  5, CIFAR-10 Batch 5:  Loss: 1.4597 Validation_accuracy: 45.98\n",
      "Epoch  6, CIFAR-10 Batch 1:  Loss: 1.5828 Validation_accuracy: 48.12\n",
      "Epoch  6, CIFAR-10 Batch 2:  Loss: 1.4490 Validation_accuracy: 47.42\n",
      "Epoch  6, CIFAR-10 Batch 3:  Loss: 1.1775 Validation_accuracy: 48.68\n",
      "Epoch  6, CIFAR-10 Batch 4:  Loss: 1.3778 Validation_accuracy: 47.44\n",
      "Epoch  6, CIFAR-10 Batch 5:  Loss: 1.4071 Validation_accuracy: 48.38\n",
      "Epoch  7, CIFAR-10 Batch 1:  Loss: 1.5328 Validation_accuracy: 49.32\n",
      "Epoch  7, CIFAR-10 Batch 2:  Loss: 1.4478 Validation_accuracy: 48.84\n",
      "Epoch  7, CIFAR-10 Batch 3:  Loss: 1.1617 Validation_accuracy: 49.62\n",
      "Epoch  7, CIFAR-10 Batch 4:  Loss: 1.3279 Validation_accuracy: 48.82\n",
      "Epoch  7, CIFAR-10 Batch 5:  Loss: 1.3733 Validation_accuracy: 48.98\n",
      "Epoch  8, CIFAR-10 Batch 1:  Loss: 1.4878 Validation_accuracy: 50.44\n",
      "Epoch  8, CIFAR-10 Batch 2:  Loss: 1.3779 Validation_accuracy: 49.72\n",
      "Epoch  8, CIFAR-10 Batch 3:  Loss: 1.1255 Validation_accuracy: 50.00\n",
      "Epoch  8, CIFAR-10 Batch 4:  Loss: 1.2537 Validation_accuracy: 49.74\n",
      "Epoch  8, CIFAR-10 Batch 5:  Loss: 1.3516 Validation_accuracy: 49.72\n",
      "Epoch  9, CIFAR-10 Batch 1:  Loss: 1.4319 Validation_accuracy: 50.44\n",
      "Epoch  9, CIFAR-10 Batch 2:  Loss: 1.3341 Validation_accuracy: 50.38\n",
      "Epoch  9, CIFAR-10 Batch 3:  Loss: 1.1019 Validation_accuracy: 50.88\n",
      "Epoch  9, CIFAR-10 Batch 4:  Loss: 1.2421 Validation_accuracy: 50.40\n",
      "Epoch  9, CIFAR-10 Batch 5:  Loss: 1.3070 Validation_accuracy: 51.14\n",
      "Epoch 10, CIFAR-10 Batch 1:  Loss: 1.3311 Validation_accuracy: 51.20\n",
      "Epoch 10, CIFAR-10 Batch 2:  Loss: 1.3458 Validation_accuracy: 51.64\n",
      "Epoch 10, CIFAR-10 Batch 3:  Loss: 1.0097 Validation_accuracy: 52.14\n",
      "Epoch 10, CIFAR-10 Batch 4:  Loss: 1.2110 Validation_accuracy: 51.56\n",
      "Epoch 10, CIFAR-10 Batch 5:  Loss: 1.3003 Validation_accuracy: 51.92\n",
      "Epoch 11, CIFAR-10 Batch 1:  Loss: 1.2559 Validation_accuracy: 52.24\n",
      "Epoch 11, CIFAR-10 Batch 2:  Loss: 1.2699 Validation_accuracy: 51.08\n",
      "Epoch 11, CIFAR-10 Batch 3:  Loss: 1.0289 Validation_accuracy: 51.68\n",
      "Epoch 11, CIFAR-10 Batch 4:  Loss: 1.1977 Validation_accuracy: 52.58\n",
      "Epoch 11, CIFAR-10 Batch 5:  Loss: 1.2283 Validation_accuracy: 52.44\n",
      "Epoch 12, CIFAR-10 Batch 1:  Loss: 1.2169 Validation_accuracy: 52.26\n",
      "Epoch 12, CIFAR-10 Batch 2:  Loss: 1.2217 Validation_accuracy: 52.52\n",
      "Epoch 12, CIFAR-10 Batch 3:  Loss: 0.9664 Validation_accuracy: 53.50\n",
      "Epoch 12, CIFAR-10 Batch 4:  Loss: 1.1623 Validation_accuracy: 52.74\n",
      "Epoch 12, CIFAR-10 Batch 5:  Loss: 1.2306 Validation_accuracy: 52.80\n",
      "Epoch 13, CIFAR-10 Batch 1:  Loss: 1.1349 Validation_accuracy: 53.22\n",
      "Epoch 13, CIFAR-10 Batch 2:  Loss: 1.2148 Validation_accuracy: 52.90\n",
      "Epoch 13, CIFAR-10 Batch 3:  Loss: 0.9305 Validation_accuracy: 53.62\n",
      "Epoch 13, CIFAR-10 Batch 4:  Loss: 1.1339 Validation_accuracy: 52.70\n",
      "Epoch 13, CIFAR-10 Batch 5:  Loss: 1.1705 Validation_accuracy: 53.48\n",
      "Epoch 14, CIFAR-10 Batch 1:  Loss: 1.1303 Validation_accuracy: 53.00\n",
      "Epoch 14, CIFAR-10 Batch 2:  Loss: 1.2007 Validation_accuracy: 53.94\n",
      "Epoch 14, CIFAR-10 Batch 3:  Loss: 0.9352 Validation_accuracy: 54.06\n",
      "Epoch 14, CIFAR-10 Batch 4:  Loss: 1.1167 Validation_accuracy: 53.48\n",
      "Epoch 14, CIFAR-10 Batch 5:  Loss: 1.1635 Validation_accuracy: 54.10\n",
      "Epoch 15, CIFAR-10 Batch 1:  Loss: 1.0952 Validation_accuracy: 54.78\n",
      "Epoch 15, CIFAR-10 Batch 2:  Loss: 1.1078 Validation_accuracy: 53.04\n",
      "Epoch 15, CIFAR-10 Batch 3:  Loss: 0.8856 Validation_accuracy: 54.26\n",
      "Epoch 15, CIFAR-10 Batch 4:  Loss: 1.0906 Validation_accuracy: 53.82\n",
      "Epoch 15, CIFAR-10 Batch 5:  Loss: 1.1154 Validation_accuracy: 54.10\n",
      "Epoch 16, CIFAR-10 Batch 1:  Loss: 1.0882 Validation_accuracy: 54.46\n",
      "Epoch 16, CIFAR-10 Batch 2:  Loss: 1.0770 Validation_accuracy: 54.52\n",
      "Epoch 16, CIFAR-10 Batch 3:  Loss: 0.8808 Validation_accuracy: 54.22\n",
      "Epoch 16, CIFAR-10 Batch 4:  Loss: 1.1024 Validation_accuracy: 54.42\n",
      "Epoch 16, CIFAR-10 Batch 5:  Loss: 1.0811 Validation_accuracy: 54.94\n",
      "Epoch 17, CIFAR-10 Batch 1:  Loss: 1.0307 Validation_accuracy: 54.94\n",
      "Epoch 17, CIFAR-10 Batch 2:  Loss: 1.0905 Validation_accuracy: 55.12\n",
      "Epoch 17, CIFAR-10 Batch 3:  Loss: 0.8850 Validation_accuracy: 55.76\n",
      "Epoch 17, CIFAR-10 Batch 4:  Loss: 1.0821 Validation_accuracy: 54.74\n",
      "Epoch 17, CIFAR-10 Batch 5:  Loss: 1.0577 Validation_accuracy: 55.82\n",
      "Epoch 18, CIFAR-10 Batch 1:  Loss: 1.0532 Validation_accuracy: 54.72\n",
      "Epoch 18, CIFAR-10 Batch 2:  Loss: 1.0434 Validation_accuracy: 53.70\n",
      "Epoch 18, CIFAR-10 Batch 3:  Loss: 0.8415 Validation_accuracy: 56.14\n",
      "Epoch 18, CIFAR-10 Batch 4:  Loss: 1.0719 Validation_accuracy: 55.54\n",
      "Epoch 18, CIFAR-10 Batch 5:  Loss: 1.0446 Validation_accuracy: 56.16\n",
      "Epoch 19, CIFAR-10 Batch 1:  Loss: 1.0502 Validation_accuracy: 56.06\n",
      "Epoch 19, CIFAR-10 Batch 2:  Loss: 1.0447 Validation_accuracy: 54.68\n",
      "Epoch 19, CIFAR-10 Batch 3:  Loss: 0.8510 Validation_accuracy: 56.20\n",
      "Epoch 19, CIFAR-10 Batch 4:  Loss: 1.0362 Validation_accuracy: 56.34\n",
      "Epoch 19, CIFAR-10 Batch 5:  Loss: 1.0255 Validation_accuracy: 56.02\n",
      "Epoch 20, CIFAR-10 Batch 1:  Loss: 0.9912 Validation_accuracy: 56.04\n",
      "Epoch 20, CIFAR-10 Batch 2:  Loss: 0.9831 Validation_accuracy: 54.42\n",
      "Epoch 20, CIFAR-10 Batch 3:  Loss: 0.8133 Validation_accuracy: 56.90\n",
      "Epoch 20, CIFAR-10 Batch 4:  Loss: 1.0084 Validation_accuracy: 55.98\n",
      "Epoch 20, CIFAR-10 Batch 5:  Loss: 0.9978 Validation_accuracy: 56.68\n",
      "Epoch 21, CIFAR-10 Batch 1:  Loss: 0.9673 Validation_accuracy: 55.88\n",
      "Epoch 21, CIFAR-10 Batch 2:  Loss: 0.9604 Validation_accuracy: 55.46\n",
      "Epoch 21, CIFAR-10 Batch 3:  Loss: 0.8124 Validation_accuracy: 56.70\n",
      "Epoch 21, CIFAR-10 Batch 4:  Loss: 1.0034 Validation_accuracy: 56.74\n",
      "Epoch 21, CIFAR-10 Batch 5:  Loss: 0.9813 Validation_accuracy: 56.88\n",
      "Epoch 22, CIFAR-10 Batch 1:  Loss: 0.9593 Validation_accuracy: 56.36\n",
      "Epoch 22, CIFAR-10 Batch 2:  Loss: 0.9804 Validation_accuracy: 57.14\n",
      "Epoch 22, CIFAR-10 Batch 3:  Loss: 0.7801 Validation_accuracy: 57.46\n",
      "Epoch 22, CIFAR-10 Batch 4:  Loss: 0.9957 Validation_accuracy: 57.08\n",
      "Epoch 22, CIFAR-10 Batch 5:  Loss: 0.9707 Validation_accuracy: 57.06\n",
      "Epoch 23, CIFAR-10 Batch 1:  Loss: 0.9577 Validation_accuracy: 57.82\n",
      "Epoch 23, CIFAR-10 Batch 2:  Loss: 0.9627 Validation_accuracy: 56.48\n",
      "Epoch 23, CIFAR-10 Batch 3:  Loss: 0.7897 Validation_accuracy: 57.42\n",
      "Epoch 23, CIFAR-10 Batch 4:  Loss: 1.0097 Validation_accuracy: 57.14\n",
      "Epoch 23, CIFAR-10 Batch 5:  Loss: 0.9449 Validation_accuracy: 57.44\n",
      "Epoch 24, CIFAR-10 Batch 1:  Loss: 0.9696 Validation_accuracy: 57.26\n",
      "Epoch 24, CIFAR-10 Batch 2:  Loss: 0.9120 Validation_accuracy: 56.44\n",
      "Epoch 24, CIFAR-10 Batch 3:  Loss: 0.7541 Validation_accuracy: 57.30\n",
      "Epoch 24, CIFAR-10 Batch 4:  Loss: 0.9777 Validation_accuracy: 57.04\n"
     ]
    },
    {
     "name": "stdout",
     "output_type": "stream",
     "text": [
      "Epoch 24, CIFAR-10 Batch 5:  Loss: 0.9809 Validation_accuracy: 57.58\n",
      "Epoch 25, CIFAR-10 Batch 1:  Loss: 0.9127 Validation_accuracy: 58.28\n",
      "Epoch 25, CIFAR-10 Batch 2:  Loss: 0.9238 Validation_accuracy: 57.48\n",
      "Epoch 25, CIFAR-10 Batch 3:  Loss: 0.7402 Validation_accuracy: 58.32\n",
      "Epoch 25, CIFAR-10 Batch 4:  Loss: 0.9969 Validation_accuracy: 57.86\n",
      "Epoch 25, CIFAR-10 Batch 5:  Loss: 0.9096 Validation_accuracy: 58.46\n",
      "Epoch 26, CIFAR-10 Batch 1:  Loss: 0.8835 Validation_accuracy: 57.86\n",
      "Epoch 26, CIFAR-10 Batch 2:  Loss: 0.8943 Validation_accuracy: 57.08\n",
      "Epoch 26, CIFAR-10 Batch 3:  Loss: 0.7325 Validation_accuracy: 58.44\n",
      "Epoch 26, CIFAR-10 Batch 4:  Loss: 0.9510 Validation_accuracy: 58.54\n",
      "Epoch 26, CIFAR-10 Batch 5:  Loss: 0.8940 Validation_accuracy: 58.74\n",
      "Epoch 27, CIFAR-10 Batch 1:  Loss: 0.8712 Validation_accuracy: 58.58\n",
      "Epoch 27, CIFAR-10 Batch 2:  Loss: 0.9351 Validation_accuracy: 58.42\n",
      "Epoch 27, CIFAR-10 Batch 3:  Loss: 0.7187 Validation_accuracy: 58.50\n",
      "Epoch 27, CIFAR-10 Batch 4:  Loss: 0.9623 Validation_accuracy: 58.38\n",
      "Epoch 27, CIFAR-10 Batch 5:  Loss: 0.8935 Validation_accuracy: 58.32\n",
      "Epoch 28, CIFAR-10 Batch 1:  Loss: 0.8540 Validation_accuracy: 59.06\n",
      "Epoch 28, CIFAR-10 Batch 2:  Loss: 0.9115 Validation_accuracy: 57.14\n",
      "Epoch 28, CIFAR-10 Batch 3:  Loss: 0.7231 Validation_accuracy: 58.20\n",
      "Epoch 28, CIFAR-10 Batch 4:  Loss: 0.9037 Validation_accuracy: 59.52\n",
      "Epoch 28, CIFAR-10 Batch 5:  Loss: 0.8742 Validation_accuracy: 59.16\n",
      "Epoch 29, CIFAR-10 Batch 1:  Loss: 0.8689 Validation_accuracy: 59.02\n",
      "Epoch 29, CIFAR-10 Batch 2:  Loss: 0.8880 Validation_accuracy: 58.18\n",
      "Epoch 29, CIFAR-10 Batch 3:  Loss: 0.7152 Validation_accuracy: 58.98\n",
      "Epoch 29, CIFAR-10 Batch 4:  Loss: 0.9552 Validation_accuracy: 59.28\n",
      "Epoch 29, CIFAR-10 Batch 5:  Loss: 0.8828 Validation_accuracy: 59.58\n",
      "Epoch 30, CIFAR-10 Batch 1:  Loss: 0.8097 Validation_accuracy: 59.04\n",
      "Epoch 30, CIFAR-10 Batch 2:  Loss: 0.9052 Validation_accuracy: 59.48\n",
      "Epoch 30, CIFAR-10 Batch 3:  Loss: 0.7090 Validation_accuracy: 58.86\n",
      "Epoch 30, CIFAR-10 Batch 4:  Loss: 0.9136 Validation_accuracy: 59.84\n",
      "Epoch 30, CIFAR-10 Batch 5:  Loss: 0.8694 Validation_accuracy: 60.18\n",
      "Epoch 31, CIFAR-10 Batch 1:  Loss: 0.7845 Validation_accuracy: 59.16\n",
      "Epoch 31, CIFAR-10 Batch 2:  Loss: 0.9025 Validation_accuracy: 59.18\n",
      "Epoch 31, CIFAR-10 Batch 3:  Loss: 0.6751 Validation_accuracy: 59.62\n",
      "Epoch 31, CIFAR-10 Batch 4:  Loss: 0.9371 Validation_accuracy: 59.42\n",
      "Epoch 31, CIFAR-10 Batch 5:  Loss: 0.8490 Validation_accuracy: 59.88\n",
      "Epoch 32, CIFAR-10 Batch 1:  Loss: 0.8086 Validation_accuracy: 59.24\n",
      "Epoch 32, CIFAR-10 Batch 2:  Loss: 0.9370 Validation_accuracy: 59.12\n",
      "Epoch 32, CIFAR-10 Batch 3:  Loss: 0.6742 Validation_accuracy: 59.78\n",
      "Epoch 32, CIFAR-10 Batch 4:  Loss: 0.8890 Validation_accuracy: 60.58\n",
      "Epoch 32, CIFAR-10 Batch 5:  Loss: 0.8156 Validation_accuracy: 59.94\n",
      "Epoch 33, CIFAR-10 Batch 1:  Loss: 0.7928 Validation_accuracy: 59.98\n",
      "Epoch 33, CIFAR-10 Batch 2:  Loss: 0.9355 Validation_accuracy: 59.78\n",
      "Epoch 33, CIFAR-10 Batch 3:  Loss: 0.6829 Validation_accuracy: 59.60\n",
      "Epoch 33, CIFAR-10 Batch 4:  Loss: 0.8881 Validation_accuracy: 60.66\n",
      "Epoch 33, CIFAR-10 Batch 5:  Loss: 0.8038 Validation_accuracy: 60.84\n",
      "Epoch 34, CIFAR-10 Batch 1:  Loss: 0.7746 Validation_accuracy: 60.02\n",
      "Epoch 34, CIFAR-10 Batch 2:  Loss: 0.8640 Validation_accuracy: 60.04\n",
      "Epoch 34, CIFAR-10 Batch 3:  Loss: 0.6414 Validation_accuracy: 60.38\n",
      "Epoch 34, CIFAR-10 Batch 4:  Loss: 0.8771 Validation_accuracy: 60.30\n",
      "Epoch 34, CIFAR-10 Batch 5:  Loss: 0.8229 Validation_accuracy: 60.28\n",
      "Epoch 35, CIFAR-10 Batch 1:  Loss: 0.7430 Validation_accuracy: 60.26\n",
      "Epoch 35, CIFAR-10 Batch 2:  Loss: 0.8880 Validation_accuracy: 60.80\n",
      "Epoch 35, CIFAR-10 Batch 3:  Loss: 0.6384 Validation_accuracy: 60.34\n",
      "Epoch 35, CIFAR-10 Batch 4:  Loss: 0.8664 Validation_accuracy: 60.14\n",
      "Epoch 35, CIFAR-10 Batch 5:  Loss: 0.7688 Validation_accuracy: 60.68\n",
      "Epoch 36, CIFAR-10 Batch 1:  Loss: 0.7729 Validation_accuracy: 59.92\n",
      "Epoch 36, CIFAR-10 Batch 2:  Loss: 0.8692 Validation_accuracy: 60.28\n",
      "Epoch 36, CIFAR-10 Batch 3:  Loss: 0.6214 Validation_accuracy: 60.42\n",
      "Epoch 36, CIFAR-10 Batch 4:  Loss: 0.8530 Validation_accuracy: 61.08\n",
      "Epoch 36, CIFAR-10 Batch 5:  Loss: 0.7772 Validation_accuracy: 60.90\n",
      "Epoch 37, CIFAR-10 Batch 1:  Loss: 0.7501 Validation_accuracy: 60.52\n",
      "Epoch 37, CIFAR-10 Batch 2:  Loss: 0.8916 Validation_accuracy: 60.54\n",
      "Epoch 37, CIFAR-10 Batch 3:  Loss: 0.6488 Validation_accuracy: 59.96\n",
      "Epoch 37, CIFAR-10 Batch 4:  Loss: 0.8804 Validation_accuracy: 58.94\n",
      "Epoch 37, CIFAR-10 Batch 5:  Loss: 0.7692 Validation_accuracy: 61.70\n",
      "Epoch 38, CIFAR-10 Batch 1:  Loss: 0.7449 Validation_accuracy: 60.84\n",
      "Epoch 38, CIFAR-10 Batch 2:  Loss: 0.8818 Validation_accuracy: 60.22\n",
      "Epoch 38, CIFAR-10 Batch 3:  Loss: 0.6212 Validation_accuracy: 60.34\n",
      "Epoch 38, CIFAR-10 Batch 4:  Loss: 0.8328 Validation_accuracy: 61.00\n",
      "Epoch 38, CIFAR-10 Batch 5:  Loss: 0.7663 Validation_accuracy: 61.50\n",
      "Epoch 39, CIFAR-10 Batch 1:  Loss: 0.7247 Validation_accuracy: 60.80\n",
      "Epoch 39, CIFAR-10 Batch 2:  Loss: 0.9017 Validation_accuracy: 60.54\n",
      "Epoch 39, CIFAR-10 Batch 3:  Loss: 0.6214 Validation_accuracy: 60.36\n",
      "Epoch 39, CIFAR-10 Batch 4:  Loss: 0.7956 Validation_accuracy: 60.82\n",
      "Epoch 39, CIFAR-10 Batch 5:  Loss: 0.7548 Validation_accuracy: 61.28\n",
      "Epoch 40, CIFAR-10 Batch 1:  Loss: 0.7285 Validation_accuracy: 60.96\n",
      "Epoch 40, CIFAR-10 Batch 2:  Loss: 0.8551 Validation_accuracy: 60.70\n",
      "Epoch 40, CIFAR-10 Batch 3:  Loss: 0.6084 Validation_accuracy: 60.58\n",
      "Epoch 40, CIFAR-10 Batch 4:  Loss: 0.8016 Validation_accuracy: 61.42\n",
      "Epoch 40, CIFAR-10 Batch 5:  Loss: 0.7478 Validation_accuracy: 61.52\n",
      "Epoch 41, CIFAR-10 Batch 1:  Loss: 0.6855 Validation_accuracy: 61.66\n",
      "Epoch 41, CIFAR-10 Batch 2:  Loss: 0.8595 Validation_accuracy: 61.34\n",
      "Epoch 41, CIFAR-10 Batch 3:  Loss: 0.5775 Validation_accuracy: 60.70\n",
      "Epoch 41, CIFAR-10 Batch 4:  Loss: 0.7757 Validation_accuracy: 61.56\n",
      "Epoch 41, CIFAR-10 Batch 5:  Loss: 0.7423 Validation_accuracy: 60.90\n",
      "Epoch 42, CIFAR-10 Batch 1:  Loss: 0.6558 Validation_accuracy: 61.68\n",
      "Epoch 42, CIFAR-10 Batch 2:  Loss: 0.8818 Validation_accuracy: 60.50\n",
      "Epoch 42, CIFAR-10 Batch 3:  Loss: 0.5616 Validation_accuracy: 61.98\n",
      "Epoch 42, CIFAR-10 Batch 4:  Loss: 0.8173 Validation_accuracy: 60.58\n",
      "Epoch 42, CIFAR-10 Batch 5:  Loss: 0.7080 Validation_accuracy: 61.64\n",
      "Epoch 43, CIFAR-10 Batch 1:  Loss: 0.6861 Validation_accuracy: 61.66\n",
      "Epoch 43, CIFAR-10 Batch 2:  Loss: 0.8462 Validation_accuracy: 61.78\n",
      "Epoch 43, CIFAR-10 Batch 3:  Loss: 0.5840 Validation_accuracy: 61.10\n",
      "Epoch 43, CIFAR-10 Batch 4:  Loss: 0.7791 Validation_accuracy: 61.24\n",
      "Epoch 43, CIFAR-10 Batch 5:  Loss: 0.7108 Validation_accuracy: 62.00\n",
      "Epoch 44, CIFAR-10 Batch 1:  Loss: 0.6849 Validation_accuracy: 60.92\n",
      "Epoch 44, CIFAR-10 Batch 2:  Loss: 0.8408 Validation_accuracy: 61.16\n",
      "Epoch 44, CIFAR-10 Batch 3:  Loss: 0.5892 Validation_accuracy: 61.48\n",
      "Epoch 44, CIFAR-10 Batch 4:  Loss: 0.7494 Validation_accuracy: 61.18\n",
      "Epoch 44, CIFAR-10 Batch 5:  Loss: 0.7002 Validation_accuracy: 60.88\n",
      "Epoch 45, CIFAR-10 Batch 1:  Loss: 0.6703 Validation_accuracy: 61.44\n",
      "Epoch 45, CIFAR-10 Batch 2:  Loss: 0.8566 Validation_accuracy: 61.30\n",
      "Epoch 45, CIFAR-10 Batch 3:  Loss: 0.5863 Validation_accuracy: 60.98\n",
      "Epoch 45, CIFAR-10 Batch 4:  Loss: 0.8018 Validation_accuracy: 60.92\n",
      "Epoch 45, CIFAR-10 Batch 5:  Loss: 0.7099 Validation_accuracy: 61.12\n",
      "Epoch 46, CIFAR-10 Batch 1:  Loss: 0.6976 Validation_accuracy: 61.94\n",
      "Epoch 46, CIFAR-10 Batch 2:  Loss: 0.8774 Validation_accuracy: 61.60\n",
      "Epoch 46, CIFAR-10 Batch 3:  Loss: 0.5595 Validation_accuracy: 61.72\n",
      "Epoch 46, CIFAR-10 Batch 4:  Loss: 0.7568 Validation_accuracy: 61.98\n",
      "Epoch 46, CIFAR-10 Batch 5:  Loss: 0.6336 Validation_accuracy: 61.36\n",
      "Epoch 47, CIFAR-10 Batch 1:  Loss: 0.6659 Validation_accuracy: 61.80\n",
      "Epoch 47, CIFAR-10 Batch 2:  Loss: 0.8476 Validation_accuracy: 61.74\n",
      "Epoch 47, CIFAR-10 Batch 3:  Loss: 0.5589 Validation_accuracy: 61.40\n",
      "Epoch 47, CIFAR-10 Batch 4:  Loss: 0.7306 Validation_accuracy: 61.88\n",
      "Epoch 47, CIFAR-10 Batch 5:  Loss: 0.6810 Validation_accuracy: 62.00\n",
      "Epoch 48, CIFAR-10 Batch 1:  Loss: 0.6433 Validation_accuracy: 62.38\n",
      "Epoch 48, CIFAR-10 Batch 2:  Loss: 0.8546 Validation_accuracy: 62.28\n",
      "Epoch 48, CIFAR-10 Batch 3:  Loss: 0.5489 Validation_accuracy: 61.82\n"
     ]
    },
    {
     "name": "stdout",
     "output_type": "stream",
     "text": [
      "Epoch 48, CIFAR-10 Batch 4:  Loss: 0.7315 Validation_accuracy: 62.12\n",
      "Epoch 48, CIFAR-10 Batch 5:  Loss: 0.6374 Validation_accuracy: 62.30\n",
      "Epoch 49, CIFAR-10 Batch 1:  Loss: 0.7229 Validation_accuracy: 61.30\n",
      "Epoch 49, CIFAR-10 Batch 2:  Loss: 0.8596 Validation_accuracy: 62.12\n",
      "Epoch 49, CIFAR-10 Batch 3:  Loss: 0.5420 Validation_accuracy: 62.18\n",
      "Epoch 49, CIFAR-10 Batch 4:  Loss: 0.7167 Validation_accuracy: 62.34\n",
      "Epoch 49, CIFAR-10 Batch 5:  Loss: 0.6524 Validation_accuracy: 62.30\n",
      "Epoch 50, CIFAR-10 Batch 1:  Loss: 0.6934 Validation_accuracy: 61.50\n",
      "Epoch 50, CIFAR-10 Batch 2:  Loss: 0.8471 Validation_accuracy: 63.16\n",
      "Epoch 50, CIFAR-10 Batch 3:  Loss: 0.5253 Validation_accuracy: 62.72\n",
      "Epoch 50, CIFAR-10 Batch 4:  Loss: 0.7380 Validation_accuracy: 62.18\n",
      "Epoch 50, CIFAR-10 Batch 5:  Loss: 0.6615 Validation_accuracy: 62.66\n",
      "Epoch 51, CIFAR-10 Batch 1:  Loss: 0.6439 Validation_accuracy: 62.26\n",
      "Epoch 51, CIFAR-10 Batch 2:  Loss: 0.8230 Validation_accuracy: 62.22\n",
      "Epoch 51, CIFAR-10 Batch 3:  Loss: 0.5132 Validation_accuracy: 62.84\n",
      "Epoch 51, CIFAR-10 Batch 4:  Loss: 0.7068 Validation_accuracy: 62.46\n",
      "Epoch 51, CIFAR-10 Batch 5:  Loss: 0.6566 Validation_accuracy: 62.54\n",
      "Epoch 52, CIFAR-10 Batch 1:  Loss: 0.6243 Validation_accuracy: 62.44\n",
      "Epoch 52, CIFAR-10 Batch 2:  Loss: 0.8504 Validation_accuracy: 62.66\n",
      "Epoch 52, CIFAR-10 Batch 3:  Loss: 0.5207 Validation_accuracy: 62.58\n",
      "Epoch 52, CIFAR-10 Batch 4:  Loss: 0.6893 Validation_accuracy: 62.72\n",
      "Epoch 52, CIFAR-10 Batch 5:  Loss: 0.6235 Validation_accuracy: 62.08\n",
      "Epoch 53, CIFAR-10 Batch 1:  Loss: 0.6378 Validation_accuracy: 62.54\n",
      "Epoch 53, CIFAR-10 Batch 2:  Loss: 0.8074 Validation_accuracy: 62.04\n",
      "Epoch 53, CIFAR-10 Batch 3:  Loss: 0.4991 Validation_accuracy: 62.84\n",
      "Epoch 53, CIFAR-10 Batch 4:  Loss: 0.7041 Validation_accuracy: 62.10\n",
      "Epoch 53, CIFAR-10 Batch 5:  Loss: 0.6081 Validation_accuracy: 62.62\n",
      "Epoch 54, CIFAR-10 Batch 1:  Loss: 0.6487 Validation_accuracy: 62.76\n",
      "Epoch 54, CIFAR-10 Batch 2:  Loss: 0.8206 Validation_accuracy: 63.08\n",
      "Epoch 54, CIFAR-10 Batch 3:  Loss: 0.5118 Validation_accuracy: 63.28\n",
      "Epoch 54, CIFAR-10 Batch 4:  Loss: 0.6803 Validation_accuracy: 63.18\n",
      "Epoch 54, CIFAR-10 Batch 5:  Loss: 0.5742 Validation_accuracy: 62.96\n",
      "Epoch 55, CIFAR-10 Batch 1:  Loss: 0.7158 Validation_accuracy: 60.80\n",
      "Epoch 55, CIFAR-10 Batch 2:  Loss: 0.8201 Validation_accuracy: 63.12\n",
      "Epoch 55, CIFAR-10 Batch 3:  Loss: 0.5101 Validation_accuracy: 63.30\n",
      "Epoch 55, CIFAR-10 Batch 4:  Loss: 0.6981 Validation_accuracy: 61.98\n",
      "Epoch 55, CIFAR-10 Batch 5:  Loss: 0.6200 Validation_accuracy: 63.04\n",
      "Epoch 56, CIFAR-10 Batch 1:  Loss: 0.6443 Validation_accuracy: 63.14\n",
      "Epoch 56, CIFAR-10 Batch 2:  Loss: 0.7870 Validation_accuracy: 63.16\n",
      "Epoch 56, CIFAR-10 Batch 3:  Loss: 0.4805 Validation_accuracy: 63.34\n",
      "Epoch 56, CIFAR-10 Batch 4:  Loss: 0.6748 Validation_accuracy: 63.06\n",
      "Epoch 56, CIFAR-10 Batch 5:  Loss: 0.6238 Validation_accuracy: 62.56\n",
      "Epoch 57, CIFAR-10 Batch 1:  Loss: 0.6142 Validation_accuracy: 63.70\n",
      "Epoch 57, CIFAR-10 Batch 2:  Loss: 0.8113 Validation_accuracy: 61.40\n",
      "Epoch 57, CIFAR-10 Batch 3:  Loss: 0.4955 Validation_accuracy: 63.64\n",
      "Epoch 57, CIFAR-10 Batch 4:  Loss: 0.6652 Validation_accuracy: 63.64\n",
      "Epoch 57, CIFAR-10 Batch 5:  Loss: 0.5710 Validation_accuracy: 62.78\n",
      "Epoch 58, CIFAR-10 Batch 1:  Loss: 0.6591 Validation_accuracy: 61.62\n",
      "Epoch 58, CIFAR-10 Batch 2:  Loss: 0.7897 Validation_accuracy: 63.38\n",
      "Epoch 58, CIFAR-10 Batch 3:  Loss: 0.5268 Validation_accuracy: 62.18\n",
      "Epoch 58, CIFAR-10 Batch 4:  Loss: 0.6189 Validation_accuracy: 63.84\n",
      "Epoch 58, CIFAR-10 Batch 5:  Loss: 0.5618 Validation_accuracy: 63.70\n",
      "Epoch 59, CIFAR-10 Batch 1:  Loss: 0.6280 Validation_accuracy: 62.46\n",
      "Epoch 59, CIFAR-10 Batch 2:  Loss: 0.7503 Validation_accuracy: 62.68\n",
      "Epoch 59, CIFAR-10 Batch 3:  Loss: 0.4763 Validation_accuracy: 63.30\n",
      "Epoch 59, CIFAR-10 Batch 4:  Loss: 0.6227 Validation_accuracy: 63.98\n",
      "Epoch 59, CIFAR-10 Batch 5:  Loss: 0.6629 Validation_accuracy: 61.54\n",
      "Epoch 60, CIFAR-10 Batch 1:  Loss: 0.6442 Validation_accuracy: 63.00\n",
      "Epoch 60, CIFAR-10 Batch 2:  Loss: 0.7768 Validation_accuracy: 63.68\n",
      "Epoch 60, CIFAR-10 Batch 3:  Loss: 0.4718 Validation_accuracy: 63.62\n",
      "Epoch 60, CIFAR-10 Batch 4:  Loss: 0.6469 Validation_accuracy: 62.46\n",
      "Epoch 60, CIFAR-10 Batch 5:  Loss: 0.5978 Validation_accuracy: 63.42\n"
     ]
    }
   ],
   "source": [
    "\"\"\"\n",
    "DON'T MODIFY ANYTHING IN THIS CELL\n",
    "\"\"\"\n",
    "save_model_path = './image_classification'\n",
    "\n",
    "print('Training...')\n",
    "with tf.Session() as sess:\n",
    "    # Initializing the variables\n",
    "    sess.run(tf.global_variables_initializer())\n",
    "    \n",
    "    # Training cycle\n",
    "    for epoch in range(epochs):\n",
    "        # Loop over all batches\n",
    "        n_batches = 5\n",
    "        for batch_i in range(1, n_batches + 1):\n",
    "            for batch_features, batch_labels in helper.load_preprocess_training_batch(batch_i, batch_size):\n",
    "                train_neural_network(sess, optimizer, keep_probability, batch_features, batch_labels)\n",
    "            print('Epoch {:>2}, CIFAR-10 Batch {}:  '.format(epoch + 1, batch_i), end='')\n",
    "            print_stats(sess, batch_features, batch_labels, cost, accuracy)\n",
    "            \n",
    "    # Save Model\n",
    "    saver = tf.train.Saver()\n",
    "    save_path = saver.save(sess, save_model_path)"
   ]
  },
  {
   "cell_type": "markdown",
   "metadata": {},
   "source": [
    "# Checkpoint\n",
    "The model has been saved to disk.\n",
    "## Test Model\n",
    "Test your model against the test dataset.  This will be your final accuracy. You should have an accuracy greater than 50%. If you don't, keep tweaking the model architecture and parameters."
   ]
  },
  {
   "cell_type": "code",
   "execution_count": 24,
   "metadata": {},
   "outputs": [
    {
     "name": "stdout",
     "output_type": "stream",
     "text": [
      "INFO:tensorflow:Restoring parameters from ./image_classification\n",
      "Testing Accuracy: 0.625\n",
      "\n"
     ]
    },
    {
     "data": {
      "image/png": "[encoded data removed]",
      "text/plain": [
       "<matplotlib.figure.Figure at 0x7f3ffcc64518>"
      ]
     },
     "metadata": {
      "image/png": {
       "height": 319,
       "width": 355
      }
     },
     "output_type": "display_data"
    }
   ],
   "source": [
    "\"\"\"\n",
    "DON'T MODIFY ANYTHING IN THIS CELL\n",
    "\"\"\"\n",
    "%matplotlib inline\n",
    "%config InlineBackend.figure_format = 'retina'\n",
    "\n",
    "import tensorflow as tf\n",
    "import pickle\n",
    "import helper\n",
    "import random\n",
    "\n",
    "# Set batch size if not already set\n",
    "try:\n",
    "    if batch_size:\n",
    "        pass\n",
    "except NameError:\n",
    "    batch_size = 64\n",
    "\n",
    "save_model_path = './image_classification'\n",
    "n_samples = 4\n",
    "top_n_predictions = 3\n",
    "\n",
    "def test_model():\n",
    "    \"\"\"\n",
    "    Test the saved model against the test dataset\n",
    "    \"\"\"\n",
    "\n",
    "    test_features, test_labels = pickle.load(open('preprocess_training.p', mode='rb'))\n",
    "    loaded_graph = tf.Graph()\n",
    "\n",
    "    with tf.Session(graph=loaded_graph) as sess:\n",
    "        # Load model\n",
    "        loader = tf.train.import_meta_graph(save_model_path + '.meta')\n",
    "        loader.restore(sess, save_model_path)\n",
    "\n",
    "        # Get Tensors from loaded model\n",
    "        loaded_x = loaded_graph.get_tensor_by_name('x:0')\n",
    "        loaded_y = loaded_graph.get_tensor_by_name('y:0')\n",
    "        loaded_keep_prob = loaded_graph.get_tensor_by_name('keep_prob:0')\n",
    "        loaded_logits = loaded_graph.get_tensor_by_name('logits:0')\n",
    "        loaded_acc = loaded_graph.get_tensor_by_name('accuracy:0')\n",
    "        \n",
    "        # Get accuracy in batches for memory limitations\n",
    "        test_batch_acc_total = 0\n",
    "        test_batch_count = 0\n",
    "        \n",
    "        for train_feature_batch, train_label_batch in helper.batch_features_labels(test_features, test_labels, batch_size):\n",
    "            test_batch_acc_total += sess.run(\n",
    "                loaded_acc,\n",
    "                feed_dict={loaded_x: train_feature_batch, loaded_y: train_label_batch, loaded_keep_prob: 1.0})\n",
    "            test_batch_count += 1\n",
    "\n",
    "        print('Testing Accuracy: {}\\n'.format(test_batch_acc_total/test_batch_count))\n",
    "\n",
    "        # Print Random Samples\n",
    "        random_test_features, random_test_labels = tuple(zip(*random.sample(list(zip(test_features, test_labels)), n_samples)))\n",
    "        random_test_predictions = sess.run(\n",
    "            tf.nn.top_k(tf.nn.softmax(loaded_logits), top_n_predictions),\n",
    "            feed_dict={loaded_x: random_test_features, loaded_y: random_test_labels, loaded_keep_prob: 1.0})\n",
    "        helper.display_image_predictions(random_test_features, random_test_labels, random_test_predictions)\n",
    "\n",
    "\n",
    "test_model()"
   ]
  },
  {
   "cell_type": "markdown",
   "metadata": {},
   "source": [
    "## Why 50-80% Accuracy?\n",
    "You might be wondering why you can't get an accuracy any higher. First things first, 50% isn't bad for a simple CNN.  Pure guessing would get you 10% accuracy. That's because there are many more techniques that can be applied to your model and we recemmond that once you are done with this project, you explore!\n",
    "\n",
    "## Submitting This Project\n",
    "When submitting this project, make sure to run all the cells before saving the notebook.  Save the notebook file as \"image_classification.ipynb\" and save it as a HTML file under \"File\" -> \"Download as\".  Include the \"helper.py\" and \"problem_unittests.py\" files in your submission."
   ]
  },
  {
   "cell_type": "code",
   "execution_count": null,
   "metadata": {
    "collapsed": true
   },
   "outputs": [],
   "source": []
  }
 ],
 "metadata": {
  "kernelspec": {
   "display_name": "Python 3",
   "language": "python",
   "name": "python3"
  },
  "language_info": {
   "codemirror_mode": {
    "name": "ipython",
    "version": 3
   },
   "file_extension": ".py",
   "mimetype": "text/x-python",
   "name": "python",
   "nbconvert_exporter": "python",
   "pygments_lexer": "ipython3",
   "version": "3.4.3"
  }
 },
 "nbformat": 4,
 "nbformat_minor": 1
}
